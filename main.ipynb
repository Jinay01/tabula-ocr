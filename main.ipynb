{
 "metadata": {
  "language_info": {
   "codemirror_mode": {
    "name": "ipython",
    "version": 3
   },
   "file_extension": ".py",
   "mimetype": "text/x-python",
   "name": "python",
   "nbconvert_exporter": "python",
   "pygments_lexer": "ipython3",
   "version": "3.8.5"
  },
  "orig_nbformat": 2,
  "kernelspec": {
   "name": "python385jvsc74a57bd04fe423c96aa21f041534bead582c2e6c3f42ab46597860deda9051867850283b",
   "display_name": "Python 3.8.5 32-bit"
  },
  "metadata": {
   "interpreter": {
    "hash": "4fe423c96aa21f041534bead582c2e6c3f42ab46597860deda9051867850283b"
   }
  }
 },
 "nbformat": 4,
 "nbformat_minor": 2,
 "cells": [
  {
   "cell_type": "code",
   "execution_count": 1,
   "metadata": {},
   "outputs": [],
   "source": [
    "import tabula\n",
    "import csv"
   ]
  },
  {
   "cell_type": "code",
   "execution_count": 4,
   "metadata": {},
   "outputs": [
    {
     "output_type": "stream",
     "name": "stderr",
     "text": [
      "Got stderr: Apr 24, 2021 3:33:19 PM org.apache.pdfbox.pdmodel.font.PDType1Font <init>\nWARNING: Using fallback font TimesNewRomanPSMT for CourierStd\n\n"
     ]
    },
    {
     "output_type": "execute_result",
     "data": {
      "text/plain": [
       "                PROGRAMME:B.E.-Computer Engineering  \\\n",
       "0                                       Course Code   \n",
       "1                                           DCSC301   \n",
       "2                                           DCSC302   \n",
       "3                                           DCSL302   \n",
       "4                                           DCSC303   \n",
       "5                                           DCSC304   \n",
       "6                                           DCSL304   \n",
       "7                                           DCSC305   \n",
       "8                                           DCSL305   \n",
       "9                                           DCSL306   \n",
       "10                                            Total   \n",
       "11  Remark : SuccessfulCredits Earned :26SGPA :9.08   \n",
       "12                                              NaN   \n",
       "\n",
       "                                           Unnamed: 0      Unnamed: 1  \\\n",
       "0                                         Course Name  Highest\\rMarks   \n",
       "1                             Applied Mathematics-III             100   \n",
       "2                   Digital Logic Design and Analysis              97   \n",
       "3        Digital Logic Design and Analysis Laboratory              47   \n",
       "4                                Discrete Mathematics             100   \n",
       "5   Electronic Circuits and Communication\\rFundame...              99   \n",
       "6   Electronics Circuits and Communication\\rFundam...              49   \n",
       "7                                     Data Structures              98   \n",
       "8                          Data Structures Laboratory              47   \n",
       "9   Object Oriented Programming Methodology\\rLabor...              96   \n",
       "10                                                NaN              26   \n",
       "11                                                NaN             NaN   \n",
       "12                                                NaN             NaN   \n",
       "\n",
       "          Unnamed: 2         Unnamed: 3              Unnamed: 4  \\\n",
       "0   Course\\rCredit/s  CA/TW\\rMax\\rMarks  CA/TW\\rMarks\\rObtained   \n",
       "1                  5                 25                      21   \n",
       "2                  4                 25                      18   \n",
       "3                  1                 25                      22   \n",
       "4                  4                 25                      22   \n",
       "5                  4                 25                      21   \n",
       "6                  1                 25                      24   \n",
       "7                  4                 25                      21   \n",
       "8                  1                 25                      23   \n",
       "9                  2                 50                      48   \n",
       "10               NaN                NaN                     NaN   \n",
       "11               NaN                NaN                     NaN   \n",
       "12               NaN                NaN                     NaN   \n",
       "\n",
       "                  Unnamed: 5                     Unnamed: 6  \\\n",
       "0   ESE/\\rPR/ORL\\rMax\\rMarks  ESE/PR/\\rORL\\rMarks\\rObtained   \n",
       "1                         75                             66   \n",
       "2                         75                             51   \n",
       "3                         25                             23   \n",
       "4                         75                             72   \n",
       "5                         75                             45   \n",
       "6                         25                             23   \n",
       "7                         75                             69   \n",
       "8                         25                             24   \n",
       "9                         50                             46   \n",
       "10                       NaN                            NaN   \n",
       "11                       NaN                            NaN   \n",
       "12                       NaN                            NaN   \n",
       "\n",
       "           Unnamed: 7       Unnamed: 8    Unnamed: 9           Unnamed: 10  \\\n",
       "0   Final\\rMax\\rMarks  Marks\\rObtained  Final\\rGrade  Credits\\rEarned\\r(C)   \n",
       "1                 100               87             O                     5   \n",
       "2                 100               69             C                     4   \n",
       "3                  50               45             O                     1   \n",
       "4                 100               94             O                     4   \n",
       "5                 100               66             C                     4   \n",
       "6                  50               47             O                     1   \n",
       "7                 100               90             O                     4   \n",
       "8                  50               47             O                     1   \n",
       "9                 100               94             O                     2   \n",
       "10                NaN              NaN            26                   NaN   \n",
       "11                NaN              NaN           NaN                   NaN   \n",
       "12                NaN              NaN           NaN                   NaN   \n",
       "\n",
       "           Unnamed: 11 Unnamed: 12 Unnamed: 13  \n",
       "0   Grade\\rPoints\\r(G)       (C*G)        SGPA  \n",
       "1                   10          50        9.08  \n",
       "2                    7          28         NaN  \n",
       "3                   10          10         NaN  \n",
       "4                   10          40         NaN  \n",
       "5                    7          28         NaN  \n",
       "6                   10          10         NaN  \n",
       "7                   10          40         NaN  \n",
       "8                   10          10         NaN  \n",
       "9                   10          20         NaN  \n",
       "10                 236         NaN         NaN  \n",
       "11                 NaN         NaN         NaN  \n",
       "12                 NaN         NaN         NaN  "
      ],
      "text/html": "<div>\n<style scoped>\n    .dataframe tbody tr th:only-of-type {\n        vertical-align: middle;\n    }\n\n    .dataframe tbody tr th {\n        vertical-align: top;\n    }\n\n    .dataframe thead th {\n        text-align: right;\n    }\n</style>\n<table border=\"1\" class=\"dataframe\">\n  <thead>\n    <tr style=\"text-align: right;\">\n      <th></th>\n      <th>PROGRAMME:B.E.-Computer Engineering</th>\n      <th>Unnamed: 0</th>\n      <th>Unnamed: 1</th>\n      <th>Unnamed: 2</th>\n      <th>Unnamed: 3</th>\n      <th>Unnamed: 4</th>\n      <th>Unnamed: 5</th>\n      <th>Unnamed: 6</th>\n      <th>Unnamed: 7</th>\n      <th>Unnamed: 8</th>\n      <th>Unnamed: 9</th>\n      <th>Unnamed: 10</th>\n      <th>Unnamed: 11</th>\n      <th>Unnamed: 12</th>\n      <th>Unnamed: 13</th>\n    </tr>\n  </thead>\n  <tbody>\n    <tr>\n      <th>0</th>\n      <td>Course Code</td>\n      <td>Course Name</td>\n      <td>Highest\\rMarks</td>\n      <td>Course\\rCredit/s</td>\n      <td>CA/TW\\rMax\\rMarks</td>\n      <td>CA/TW\\rMarks\\rObtained</td>\n      <td>ESE/\\rPR/ORL\\rMax\\rMarks</td>\n      <td>ESE/PR/\\rORL\\rMarks\\rObtained</td>\n      <td>Final\\rMax\\rMarks</td>\n      <td>Marks\\rObtained</td>\n      <td>Final\\rGrade</td>\n      <td>Credits\\rEarned\\r(C)</td>\n      <td>Grade\\rPoints\\r(G)</td>\n      <td>(C*G)</td>\n      <td>SGPA</td>\n    </tr>\n    <tr>\n      <th>1</th>\n      <td>DCSC301</td>\n      <td>Applied Mathematics-III</td>\n      <td>100</td>\n      <td>5</td>\n      <td>25</td>\n      <td>21</td>\n      <td>75</td>\n      <td>66</td>\n      <td>100</td>\n      <td>87</td>\n      <td>O</td>\n      <td>5</td>\n      <td>10</td>\n      <td>50</td>\n      <td>9.08</td>\n    </tr>\n    <tr>\n      <th>2</th>\n      <td>DCSC302</td>\n      <td>Digital Logic Design and Analysis</td>\n      <td>97</td>\n      <td>4</td>\n      <td>25</td>\n      <td>18</td>\n      <td>75</td>\n      <td>51</td>\n      <td>100</td>\n      <td>69</td>\n      <td>C</td>\n      <td>4</td>\n      <td>7</td>\n      <td>28</td>\n      <td>NaN</td>\n    </tr>\n    <tr>\n      <th>3</th>\n      <td>DCSL302</td>\n      <td>Digital Logic Design and Analysis Laboratory</td>\n      <td>47</td>\n      <td>1</td>\n      <td>25</td>\n      <td>22</td>\n      <td>25</td>\n      <td>23</td>\n      <td>50</td>\n      <td>45</td>\n      <td>O</td>\n      <td>1</td>\n      <td>10</td>\n      <td>10</td>\n      <td>NaN</td>\n    </tr>\n    <tr>\n      <th>4</th>\n      <td>DCSC303</td>\n      <td>Discrete Mathematics</td>\n      <td>100</td>\n      <td>4</td>\n      <td>25</td>\n      <td>22</td>\n      <td>75</td>\n      <td>72</td>\n      <td>100</td>\n      <td>94</td>\n      <td>O</td>\n      <td>4</td>\n      <td>10</td>\n      <td>40</td>\n      <td>NaN</td>\n    </tr>\n    <tr>\n      <th>5</th>\n      <td>DCSC304</td>\n      <td>Electronic Circuits and Communication\\rFundame...</td>\n      <td>99</td>\n      <td>4</td>\n      <td>25</td>\n      <td>21</td>\n      <td>75</td>\n      <td>45</td>\n      <td>100</td>\n      <td>66</td>\n      <td>C</td>\n      <td>4</td>\n      <td>7</td>\n      <td>28</td>\n      <td>NaN</td>\n    </tr>\n    <tr>\n      <th>6</th>\n      <td>DCSL304</td>\n      <td>Electronics Circuits and Communication\\rFundam...</td>\n      <td>49</td>\n      <td>1</td>\n      <td>25</td>\n      <td>24</td>\n      <td>25</td>\n      <td>23</td>\n      <td>50</td>\n      <td>47</td>\n      <td>O</td>\n      <td>1</td>\n      <td>10</td>\n      <td>10</td>\n      <td>NaN</td>\n    </tr>\n    <tr>\n      <th>7</th>\n      <td>DCSC305</td>\n      <td>Data Structures</td>\n      <td>98</td>\n      <td>4</td>\n      <td>25</td>\n      <td>21</td>\n      <td>75</td>\n      <td>69</td>\n      <td>100</td>\n      <td>90</td>\n      <td>O</td>\n      <td>4</td>\n      <td>10</td>\n      <td>40</td>\n      <td>NaN</td>\n    </tr>\n    <tr>\n      <th>8</th>\n      <td>DCSL305</td>\n      <td>Data Structures Laboratory</td>\n      <td>47</td>\n      <td>1</td>\n      <td>25</td>\n      <td>23</td>\n      <td>25</td>\n      <td>24</td>\n      <td>50</td>\n      <td>47</td>\n      <td>O</td>\n      <td>1</td>\n      <td>10</td>\n      <td>10</td>\n      <td>NaN</td>\n    </tr>\n    <tr>\n      <th>9</th>\n      <td>DCSL306</td>\n      <td>Object Oriented Programming Methodology\\rLabor...</td>\n      <td>96</td>\n      <td>2</td>\n      <td>50</td>\n      <td>48</td>\n      <td>50</td>\n      <td>46</td>\n      <td>100</td>\n      <td>94</td>\n      <td>O</td>\n      <td>2</td>\n      <td>10</td>\n      <td>20</td>\n      <td>NaN</td>\n    </tr>\n    <tr>\n      <th>10</th>\n      <td>Total</td>\n      <td>NaN</td>\n      <td>26</td>\n      <td>NaN</td>\n      <td>NaN</td>\n      <td>NaN</td>\n      <td>NaN</td>\n      <td>NaN</td>\n      <td>NaN</td>\n      <td>NaN</td>\n      <td>26</td>\n      <td>NaN</td>\n      <td>236</td>\n      <td>NaN</td>\n      <td>NaN</td>\n    </tr>\n    <tr>\n      <th>11</th>\n      <td>Remark : SuccessfulCredits Earned :26SGPA :9.08</td>\n      <td>NaN</td>\n      <td>NaN</td>\n      <td>NaN</td>\n      <td>NaN</td>\n      <td>NaN</td>\n      <td>NaN</td>\n      <td>NaN</td>\n      <td>NaN</td>\n      <td>NaN</td>\n      <td>NaN</td>\n      <td>NaN</td>\n      <td>NaN</td>\n      <td>NaN</td>\n      <td>NaN</td>\n    </tr>\n    <tr>\n      <th>12</th>\n      <td>NaN</td>\n      <td>NaN</td>\n      <td>NaN</td>\n      <td>NaN</td>\n      <td>NaN</td>\n      <td>NaN</td>\n      <td>NaN</td>\n      <td>NaN</td>\n      <td>NaN</td>\n      <td>NaN</td>\n      <td>NaN</td>\n      <td>NaN</td>\n      <td>NaN</td>\n      <td>NaN</td>\n      <td>NaN</td>\n    </tr>\n  </tbody>\n</table>\n</div>"
     },
     "metadata": {},
     "execution_count": 4
    }
   ],
   "source": [
    "df = tabula.read_pdf(\"input/s3.pdf\", pages=1)[0]\n",
    "df"
   ]
  },
  {
   "cell_type": "code",
   "execution_count": 5,
   "metadata": {},
   "outputs": [
    {
     "output_type": "stream",
     "name": "stderr",
     "text": [
      "'pages' argument isn't specified.Will extract only from page 1 by default.\n",
      "Got stderr: Apr 24, 2021 3:33:34 PM org.apache.pdfbox.pdmodel.font.PDType1Font <init>\n",
      "WARNING: Using fallback font TimesNewRomanPSMT for CourierStd\n",
      "\n"
     ]
    }
   ],
   "source": [
    "new = tabula.io.convert_into(\"input/s3.pdf\", \"output/s3.json\", output_format='json')\n",
    "new"
   ]
  },
  {
   "cell_type": "code",
   "execution_count": 48,
   "metadata": {},
   "outputs": [
    {
     "output_type": "stream",
     "name": "stdout",
     "text": [
      "end\n[['DCSC301', 'Applied Mathematics-III', '100', '5', '25', '21', '75', '66', '100', '87', 'O', '5', '10', '50', '9.08\\n'], ['DCSC302', 'Digital Logic Design and Analysis', '97', '4', '25', '18', '75', '51', '100', '69', 'C', '4', '7', '28', '\\n'], ['DCSL302', 'Digital Logic Design and Analysis Laboratory', '47', '1', '25', '22', '25', '23', '50', '45', 'O', '1', '10', '10', '\\n'], ['DCSC303', 'Discrete Mathematics', '100', '4', '25', '22', '75', '72', '100', '94', 'O', '4', '10', '40', '\\n'], ['DCSC304', '\"Electronic Circuits and Communication\\n'], ['Fundamentals\"', '99', '4', '25', '21', '75', '45', '100', '66', 'C', '4', '7', '28', '\\n'], ['DCSL304', '\"Electronics Circuits and Communication\\n'], ['Fundamentals Laboratory\"', '49', '1', '25', '24', '25', '23', '50', '47', 'O', '1', '10', '10', '\\n'], ['DCSC305', 'Data Structures', '98', '4', '25', '21', '75', '69', '100', '90', 'O', '4', '10', '40', '\\n'], ['DCSL305', 'Data Structures Laboratory', '47', '1', '25', '23', '25', '24', '50', '47', 'O', '1', '10', '10', '\\n'], ['DCSL306', '\"Object Oriented Programming Methodology\\n'], ['Laboratory\"', '96', '2', '50', '48', '50', '46', '100', '94', 'O', '2', '10', '20', '\\n'], ['Total', '', '26', '', '', '', '', '', '', '', '26', '', '236', '', '\\n']]\n"
     ]
    }
   ],
   "source": [
    "with open('output/s3.csv','r') as csv_file:\n",
    "    csv_reader = csv.reader(csv_file, delimiter = '\\t')\n",
    "    line_count=1\n",
    "    marsheets = {}\n",
    "    sem = {}\n",
    "    semester = 3 #user input\n",
    "    lis1= []\n",
    "   \n",
    "    for row in csv_file:\n",
    "        subject = {}\n",
    "        # if line_count==0:\n",
    "            # print(f'headings are {\",\".join(row)}')\n",
    "        if line_count>=23:\n",
    "            data = row.split(',')\n",
    "            lis1.append(data)\n",
    "        line_count += 1\n",
    "    for i in lis1:\n",
    "        if '\"' in i[1]:\n",
    "        else:\n",
    "            subject['name']=i[1]\n",
    "            subject[\"highest\"]=i[2]\n",
    "            sem[i[0]]=subject      \n",
    "        marsheets[semester]=sem\n",
    "    # print(marsheets)\n",
    "    print(lis1)\n",
    "# 0 cc, 1 subj, 2  highest, 3 course credits, 4 tt highest, 5 tt marks, 6 sem highest, 7 sem marks, 8 final max, 9 marks obtained, 10 grade, 11 credits,12 grade points, 13 credits*grade\n",
    "#0       1                       2   3 4  5  6  7  8  9   10  11  12  13\n",
    "#DCSC301,Applied Mathematics-III,100,5,25,21,75,66,100,87,O,  5,  10, 50            \n",
    "        \n",
    "    \n",
    "        # print(row)\n",
    "        "
   ]
  },
  {
   "cell_type": "code",
   "execution_count": 29,
   "metadata": {},
   "outputs": [
    {
     "output_type": "stream",
     "name": "stdout",
     "text": [
      "['DJ19CEC301', 'Engineering Mathematics -III', '100', '3', '25', '24', '75', '73', '100', '97', 'O', '3', '10', '30', '9.50\\n']\n"
     ]
    }
   ],
   "source": [
    "with open('output/3.csv','r') as csv_file:\n",
    "    csv_reader = csv.reader(csv_file, delimiter = '\\t')\n",
    "    line_count=0\n",
    "    for row in csv_file:\n",
    "        if line_count=22:\n",
    "            print(row.split(','))\n",
    "        line_count += 1"
   ]
  },
  {
   "cell_type": "code",
   "execution_count": 4,
   "metadata": {},
   "outputs": [],
   "source": [
    "import json"
   ]
  },
  {
   "cell_type": "code",
   "execution_count": 110,
   "metadata": {
    "tags": []
   },
   "outputs": [],
   "source": [
    "f = open(\"output/s3.json\",)\n",
    "data1 = json.load(f)\n",
    "# data1 = json.dumps(data1, indent=2)\n",
    "new_lis = data1[0]['data'][2:]\n",
    "# print(len(new_lis))\n",
    "new_key = [\"0 cc\", \"1 subj\",\"2  highest\", \"3 course credits\", \"4 tt highest\", \"5 tt marks\", \"6 sem highest\", \"7 sem marks\", \"8 final max\", \"9 marks obtained\", \"10 grade\", \"11 credits\",\"12 grade points\", \"13 credits*grade\",'14 ptr']\n",
    "\n",
    "# print(data1[0]['data'][2][0]['text'])"
   ]
  },
  {
   "cell_type": "code",
   "execution_count": 111,
   "metadata": {},
   "outputs": [
    {
     "output_type": "stream",
     "name": "stdout",
     "text": [
      "[[{'0 cc': 'DCSC301'}, {'1 subj': 'Applied Mathematics-III'}, {'2  highest': '100'}, {'3 course credits': '5'}, {'4 tt highest': '25'}, {'5 tt marks': '21'}, {'6 sem highest': '75'}, {'7 sem marks': '66'}, {'8 final max': '100'}, {'9 marks obtained': '87'}, {'10 grade': 'O'}, {'11 credits': '5'}, {'12 grade points': '10'}, {'13 credits*grade': '50'}, {'14 ptr': '9.08'}], [{'0 cc': 'DCSC302'}, {'1 subj': 'Digital Logic Design and Analysis'}, {'2  highest': '97'}, {'3 course credits': '4'}, {'4 tt highest': '25'}, {'5 tt marks': '18'}, {'6 sem highest': '75'}, {'7 sem marks': '51'}, {'8 final max': '100'}, {'9 marks obtained': '69'}, {'10 grade': 'C'}, {'11 credits': '4'}, {'12 grade points': '7'}, {'13 credits*grade': '28'}, {'14 ptr': ''}], [{'0 cc': 'DCSL302'}, {'1 subj': 'Digital Logic Design and Analysis Laboratory'}, {'2  highest': '47'}, {'3 course credits': '1'}, {'4 tt highest': '25'}, {'5 tt marks': '22'}, {'6 sem highest': '25'}, {'7 sem marks': '23'}, {'8 final max': '50'}, {'9 marks obtained': '45'}, {'10 grade': 'O'}, {'11 credits': '1'}, {'12 grade points': '10'}, {'13 credits*grade': '10'}, {'14 ptr': ''}], [{'0 cc': 'DCSC303'}, {'1 subj': 'Discrete Mathematics'}, {'2  highest': '100'}, {'3 course credits': '4'}, {'4 tt highest': '25'}, {'5 tt marks': '22'}, {'6 sem highest': '75'}, {'7 sem marks': '72'}, {'8 final max': '100'}, {'9 marks obtained': '94'}, {'10 grade': 'O'}, {'11 credits': '4'}, {'12 grade points': '10'}, {'13 credits*grade': '40'}, {'14 ptr': ''}], [{'0 cc': 'DCSC304'}, {'1 subj': 'Electronic Circuits and Communication\\rFundamentals'}, {'2  highest': '99'}, {'3 course credits': '4'}, {'4 tt highest': '25'}, {'5 tt marks': '21'}, {'6 sem highest': '75'}, {'7 sem marks': '45'}, {'8 final max': '100'}, {'9 marks obtained': '66'}, {'10 grade': 'C'}, {'11 credits': '4'}, {'12 grade points': '7'}, {'13 credits*grade': '28'}, {'14 ptr': ''}], [{'0 cc': 'DCSL304'}, {'1 subj': 'Electronics Circuits and Communication\\rFundamentals Laboratory'}, {'2  highest': '49'}, {'3 course credits': '1'}, {'4 tt highest': '25'}, {'5 tt marks': '24'}, {'6 sem highest': '25'}, {'7 sem marks': '23'}, {'8 final max': '50'}, {'9 marks obtained': '47'}, {'10 grade': 'O'}, {'11 credits': '1'}, {'12 grade points': '10'}, {'13 credits*grade': '10'}, {'14 ptr': ''}], [{'0 cc': 'DCSC305'}, {'1 subj': 'Data Structures'}, {'2  highest': '98'}, {'3 course credits': '4'}, {'4 tt highest': '25'}, {'5 tt marks': '21'}, {'6 sem highest': '75'}, {'7 sem marks': '69'}, {'8 final max': '100'}, {'9 marks obtained': '90'}, {'10 grade': 'O'}, {'11 credits': '4'}, {'12 grade points': '10'}, {'13 credits*grade': '40'}, {'14 ptr': ''}], [{'0 cc': 'DCSL305'}, {'1 subj': 'Data Structures Laboratory'}, {'2  highest': '47'}, {'3 course credits': '1'}, {'4 tt highest': '25'}, {'5 tt marks': '23'}, {'6 sem highest': '25'}, {'7 sem marks': '24'}, {'8 final max': '50'}, {'9 marks obtained': '47'}, {'10 grade': 'O'}, {'11 credits': '1'}, {'12 grade points': '10'}, {'13 credits*grade': '10'}, {'14 ptr': ''}], [{'0 cc': 'DCSL306'}, {'1 subj': 'Object Oriented Programming Methodology\\rLaboratory'}, {'2  highest': '96'}, {'3 course credits': '2'}, {'4 tt highest': '50'}, {'5 tt marks': '48'}, {'6 sem highest': '50'}, {'7 sem marks': '46'}, {'8 final max': '100'}, {'9 marks obtained': '94'}, {'10 grade': 'O'}, {'11 credits': '2'}, {'12 grade points': '10'}, {'13 credits*grade': '20'}, {'14 ptr': ''}], [{'0 cc': 'Total'}, {'1 subj': ''}, {'2  highest': '26'}, {'3 course credits': ''}, {'4 tt highest': ''}, {'5 tt marks': ''}, {'6 sem highest': ''}, {'7 sem marks': ''}, {'8 final max': ''}, {'9 marks obtained': ''}, {'10 grade': '26'}, {'11 credits': ''}, {'12 grade points': '236'}, {'13 credits*grade': ''}, {'14 ptr': ''}], [{'0 cc': 'Remark : SuccessfulCredits Earned :26SGPA :9.08'}, {'1 subj': ''}, {'2  highest': ''}, {'3 course credits': ''}, {'4 tt highest': ''}, {'5 tt marks': ''}, {'6 sem highest': ''}, {'7 sem marks': ''}, {'8 final max': ''}, {'9 marks obtained': ''}, {'10 grade': ''}, {'11 credits': ''}, {'12 grade points': ''}, {'13 credits*grade': ''}, {'14 ptr': ''}], [{'0 cc': ''}, {'1 subj': ''}, {'2  highest': ''}, {'3 course credits': ''}, {'4 tt highest': ''}, {'5 tt marks': ''}, {'6 sem highest': ''}, {'7 sem marks': ''}, {'8 final max': ''}, {'9 marks obtained': ''}, {'10 grade': ''}, {'11 credits': ''}, {'12 grade points': ''}, {'13 credits*grade': ''}, {'14 ptr': ''}]]\n"
     ]
    }
   ],
   "source": [
    "for i in new_lis:\n",
    "    \n",
    "    for j , k in zip(i , new_key):\n",
    "        j.pop('top')\n",
    "        j.pop('left')\n",
    "        j.pop('width')\n",
    "        j.pop('height')\n",
    "        j[k] = j.pop('text')\n",
    "print(new_lis)"
   ]
  },
  {
   "cell_type": "code",
   "execution_count": 51,
   "metadata": {
    "tags": [
     "outputPrepend"
    ]
   },
   "outputs": [
    {
     "output_type": "stream",
     "name": "stdout",
     "text": [
      "0'}, {'top': 134.09627, 'left': 750.9971, 'width': 30.1856689453125, 'height': 157.74562072753906, 'text': '9.08'}], [{'top': 148.216, 'left': 8.987904, 'width': 78.843017578125, 'height': 14.114501953125, 'text': 'DCSC302'}, {'top': 148.216, 'left': 87.83092, 'width': 197.5548858642578, 'height': 14.114501953125, 'text': 'Digital Logic Design and Analysis'}, {'top': 148.216, 'left': 285.3858, 'width': 38.0242919921875, 'height': 14.114501953125, 'text': '97'}, {'top': 148.216, 'left': 323.4101, 'width': 38.9417724609375, 'height': 14.114501953125, 'text': '4'}, {'top': 148.216, 'left': 362.35187, 'width': 36.173126220703125, 'height': 14.114501953125, 'text': '25'}, {'top': 148.216, 'left': 398.525, 'width': 43.61083984375, 'height': 14.114501953125, 'text': '18'}, {'top': 148.216, 'left': 442.13583, 'width': 40.202056884765625, 'height': 14.114501953125, 'text': '75'}, {'top': 148.216, 'left': 482.3379, 'width': 44.513916015625, 'height': 14.114501953125, 'text': '51'}, {'top': 148.216, 'left': 526.8518, 'width': 32.7677001953125, 'height': 14.114501953125, 'text': '100'}, {'top': 148.216, 'left': 559.6195, 'width': 43.29449462890625, 'height': 14.114501953125, 'text': '69'}, {'top': 148.216, 'left': 602.914, 'width': 47.28265380859375, 'height': 14.114501953125, 'text': 'C'}, {'top': 148.216, 'left': 650.19666, 'width': 36.0, 'height': 14.114501953125, 'text': '4'}, {'top': 148.216, 'left': 686.19666, 'width': 36.0, 'height': 14.114501953125, 'text': '7'}, {'top': 148.216, 'left': 722.19666, 'width': 28.8004150390625, 'height': 14.114501953125, 'text': '28'}, {'top': 0.0, 'left': 0.0, 'width': 0.0, 'height': 0.0, 'text': ''}], [{'top': 162.3305, 'left': 8.987904, 'width': 78.843017578125, 'height': 14.111495971679688, 'text': 'DCSL302'}, {'top': 162.3305, 'left': 87.83092, 'width': 197.5548858642578, 'height': 14.111495971679688, 'text': 'Digital Logic Design and Analysis Laboratory'}, {'top': 162.3305, 'left': 285.3858, 'width': 38.0242919921875, 'height': 14.111495971679688, 'text': '47'}, {'top': 162.3305, 'left': 323.4101, 'width': 38.9417724609375, 'height': 14.111495971679688, 'text': '1'}, {'top': 162.3305, 'left': 362.35187, 'width': 36.173126220703125, 'height': 14.111495971679688, 'text': '25'}, {'top': 162.3305, 'left': 398.525, 'width': 43.61083984375, 'height': 14.111495971679688, 'text': '22'}, {'top': 162.3305, 'left': 442.13583, 'width': 40.202056884765625, 'height': 14.111495971679688, 'text': '25'}, {'top': 162.3305, 'left': 482.3379, 'width': 44.513916015625, 'height': 14.111495971679688, 'text': '23'}, {'top': 162.3305, 'left': 526.8518, 'width': 32.7677001953125, 'height': 14.111495971679688, 'text': '50'}, {'top': 162.3305, 'left': 559.6195, 'width': 43.29449462890625, 'height': 14.111495971679688, 'text': '45'}, {'top': 162.3305, 'left': 602.914, 'width': 47.28265380859375, 'height': 14.111495971679688, 'text': 'O'}, {'top': 162.3305, 'left': 650.19666, 'width': 36.0, 'height': 14.111495971679688, 'text': '1'}, {'top': 162.3305, 'left': 686.19666, 'width': 36.0, 'height': 14.111495971679688, 'text': '10'}, {'top': 162.3305, 'left': 722.19666, 'width': 28.8004150390625, 'height': 14.111495971679688, 'text': '10'}, {'top': 0.0, 'left': 0.0, 'width': 0.0, 'height': 0.0, 'text': ''}], [{'top': 176.442, 'left': 8.987904, 'width': 78.843017578125, 'height': 14.11151123046875, 'text': 'DCSC303'}, {'top': 176.442, 'left': 87.83092, 'width': 197.5548858642578, 'height': 14.11151123046875, 'text': 'Discrete Mathematics'}, {'top': 176.442, 'left': 285.3858, 'width': 38.0242919921875, 'height': 14.11151123046875, 'text': '100'}, {'top': 176.442, 'left': 323.4101, 'width': 38.9417724609375, 'height': 14.11151123046875, 'text': '4'}, {'top': 176.442, 'left': 362.35187, 'width': 36.173126220703125, 'height': 14.11151123046875, 'text': '25'}, {'top': 176.442, 'left': 398.525, 'width': 43.61083984375, 'height': 14.11151123046875, 'text': '22'}, {'top': 176.442, 'left': 442.13583, 'width': 40.202056884765625, 'height': 14.11151123046875, 'text': '75'}, {'top': 176.442, 'left': 482.3379, 'width': 44.513916015625, 'height': 14.11151123046875, 'text': '72'}, {'top': 176.442, 'left': 526.8518, 'width': 32.7677001953125, 'height': 14.11151123046875, 'text': '100'}, {'top': 176.442, 'left': 559.6195, 'width': 43.29449462890625, 'height': 14.11151123046875, 'text': '94'}, {'top': 176.442, 'left': 602.914, 'width': 47.28265380859375, 'height': 14.11151123046875, 'text': 'O'}, {'top': 176.442, 'left': 650.19666, 'width': 36.0, 'height': 14.11151123046875, 'text': '4'}, {'top': 176.442, 'left': 686.19666, 'width': 36.0, 'height': 14.11151123046875, 'text': '10'}, {'top': 176.442, 'left': 722.19666, 'width': 28.8004150390625, 'height': 14.11151123046875, 'text': '40'}, {'top': 0.0, 'left': 0.0, 'width': 0.0, 'height': 0.0, 'text': ''}], [{'top': 190.55351, 'left': 8.987904, 'width': 78.843017578125, 'height': 24.352401733398438, 'text': 'DCSC304'}, {'top': 190.55351, 'left': 87.83092, 'width': 197.5548858642578, 'height': 24.352401733398438, 'text': 'Electronic Circuits and Communication\\rFundamentals'}, {'top': 190.55351, 'left': 285.3858, 'width': 38.0242919921875, 'height': 24.352401733398438, 'text': '99'}, {'top': 190.55351, 'left': 323.4101, 'width': 38.9417724609375, 'height': 24.352401733398438, 'text': '4'}, {'top': 190.55351, 'left': 362.35187, 'width': 36.173126220703125, 'height': 24.352401733398438, 'text': '25'}, {'top': 190.55351, 'left': 398.525, 'width': 43.61083984375, 'height': 24.352401733398438, 'text': '21'}, {'top': 190.55351, 'left': 442.13583, 'width': 40.202056884765625, 'height': 24.352401733398438, 'text': '75'}, {'top': 190.55351, 'left': 482.3379, 'width': 44.513916015625, 'height': 24.352401733398438, 'text': '45'}, {'top': 190.55351, 'left': 526.8518, 'width': 32.7677001953125, 'height': 24.352401733398438, 'text': '100'}, {'top': 190.55351, 'left': 559.6195, 'width': 43.29449462890625, 'height': 24.352401733398438, 'text': '66'}, {'top': 190.55351, 'left': 602.914, 'width': 47.28265380859375, 'height': 24.352401733398438, 'text': 'C'}, {'top': 190.55351, 'left': 650.19666, 'width': 36.0, 'height': 24.352401733398438, 'text': '4'}, {'top': 190.55351, 'left': 686.19666, 'width': 36.0, 'height': 24.352401733398438, 'text': '7'}, {'top': 190.55351, 'left': 722.19666, 'width': 28.8004150390625, 'height': 24.352401733398438, 'text': '28'}, {'top': 0.0, 'left': 0.0, 'width': 0.0, 'height': 0.0, 'text': ''}], [{'top': 214.90591, 'left': 8.987904, 'width': 78.843017578125, 'height': 24.356048583984375, 'text': 'DCSL304'}, {'top': 214.90591, 'left': 87.83092, 'width': 197.5548858642578, 'height': 24.356048583984375, 'text': 'Electronics Circuits and Communication\\rFundamentals Laboratory'}, {'top': 214.90591, 'left': 285.3858, 'width': 38.0242919921875, 'height': 24.356048583984375, 'text': '49'}, {'top': 214.90591, 'left': 323.4101, 'width': 38.9417724609375, 'height': 24.356048583984375, 'text': '1'}, {'top': 214.90591, 'left': 362.35187, 'width': 36.173126220703125, 'height': 24.356048583984375, 'text': '25'}, {'top': 214.90591, 'left': 398.525, 'width': 43.61083984375, 'height': 24.356048583984375, 'text': '24'}, {'top': 214.90591, 'left': 442.13583, 'width': 40.202056884765625, 'height': 24.356048583984375, 'text': '25'}, {'top': 214.90591, 'left': 482.3379, 'width': 44.513916015625, 'height': 24.356048583984375, 'text': '23'}, {'top': 214.90591, 'left': 526.8518, 'width': 32.7677001953125, 'height': 24.356048583984375, 'text': '50'}, {'top': 214.90591, 'left': 559.6195, 'width': 43.29449462890625, 'height': 24.356048583984375, 'text': '47'}, {'top': 214.90591, 'left': 602.914, 'width': 47.28265380859375, 'height': 24.356048583984375, 'text': 'O'}, {'top': 214.90591, 'left': 650.19666, 'width': 36.0, 'height': 24.356048583984375, 'text': '1'}, {'top': 214.90591, 'left': 686.19666, 'width': 36.0, 'height': 24.356048583984375, 'text': '10'}, {'top': 214.90591, 'left': 722.19666, 'width': 28.8004150390625, 'height': 24.356048583984375, 'text': '10'}, {'top': 0.0, 'left': 0.0, 'width': 0.0, 'height': 0.0, 'text': ''}], [{'top': 239.26196, 'left': 8.987904, 'width': 78.843017578125, 'height': 14.111328125, 'text': 'DCSC305'}, {'top': 239.26196, 'left': 87.83092, 'width': 197.5548858642578, 'height': 14.111328125, 'text': 'Data Structures'}, {'top': 239.26196, 'left': 285.3858, 'width': 38.0242919921875, 'height': 14.111328125, 'text': '98'}, {'top': 239.26196, 'left': 323.4101, 'width': 38.9417724609375, 'height': 14.111328125, 'text': '4'}, {'top': 239.26196, 'left': 362.35187, 'width': 36.173126220703125, 'height': 14.111328125, 'text': '25'}, {'top': 239.26196, 'left': 398.525, 'width': 43.61083984375, 'height': 14.111328125, 'text': '21'}, {'top': 239.26196, 'left': 442.13583, 'width': 40.202056884765625, 'height': 14.111328125, 'text': '75'}, {'top': 239.26196, 'left': 482.3379, 'width': 44.513916015625, 'height': 14.111328125, 'text': '69'}, {'top': 239.26196, 'left': 526.8518, 'width': 32.7677001953125, 'height': 14.111328125, 'text': '100'}, {'top': 239.26196, 'left': 559.6195, 'width': 43.29449462890625, 'height': 14.111328125, 'text': '90'}, {'top': 239.26196, 'left': 602.914, 'width': 47.28265380859375, 'height': 14.111328125, 'text': 'O'}, {'top': 239.26196, 'left': 650.19666, 'width': 36.0, 'height': 14.111328125, 'text': '4'}, {'top': 239.26196, 'left': 686.19666, 'width': 36.0, 'height': 14.111328125, 'text': '10'}, {'top': 239.26196, 'left': 722.19666, 'width': 28.8004150390625, 'height': 14.111328125, 'text': '40'}, {'top': 0.0, 'left': 0.0, 'width': 0.0, 'height': 0.0, 'text': ''}], [{'top': 253.37329, 'left': 8.987904, 'width': 78.843017578125, 'height': 14.111358642578125, 'text': 'DCSL305'}, {'top': 253.37329, 'left': 87.83092, 'width': 197.5548858642578, 'height': 14.111358642578125, 'text': 'Data Structures Laboratory'}, {'top': 253.37329, 'left': 285.3858, 'width': 38.0242919921875, 'height': 14.111358642578125, 'text': '47'}, {'top': 253.37329, 'left': 323.4101, 'width': 38.9417724609375, 'height': 14.111358642578125, 'text': '1'}, {'top': 253.37329, 'left': 362.35187, 'width': 36.173126220703125, 'height': 14.111358642578125, 'text': '25'}, {'top': 253.37329, 'left': 398.525, 'width': 43.61083984375, 'height': 14.111358642578125, 'text': '23'}, {'top': 253.37329, 'left': 442.13583, 'width': 40.202056884765625, 'height': 14.111358642578125, 'text': '25'}, {'top': 253.37329, 'left': 482.3379, 'width': 44.513916015625, 'height': 14.111358642578125, 'text': '24'}, {'top': 253.37329, 'left': 526.8518, 'width': 32.7677001953125, 'height': 14.111358642578125, 'text': '50'}, {'top': 253.37329, 'left': 559.6195, 'width': 43.29449462890625, 'height': 14.111358642578125, 'text': '47'}, {'top': 253.37329, 'left': 602.914, 'width': 47.28265380859375, 'height': 14.111358642578125, 'text': 'O'}, {'top': 253.37329, 'left': 650.19666, 'width': 36.0, 'height': 14.111358642578125, 'text': '1'}, {'top': 253.37329, 'left': 686.19666, 'width': 36.0, 'height': 14.111358642578125, 'text': '10'}, {'top': 253.37329, 'left': 722.19666, 'width': 28.8004150390625, 'height': 14.111358642578125, 'text': '10'}, {'top': 0.0, 'left': 0.0, 'width': 0.0, 'height': 0.0, 'text': ''}], [{'top': 267.48465, 'left': 8.987904, 'width': 78.843017578125, 'height': 24.35723876953125, 'text': 'DCSL306'}, {'top': 267.48465, 'left': 87.83092, 'width': 197.5548858642578, 'height': 24.35723876953125, 'text': 'Object Oriented Programming Methodology\\rLaboratory'}, {'top': 267.48465, 'left': 285.3858, 'width': 38.0242919921875, 'height': 24.35723876953125, 'text': '96'}, {'top': 267.48465, 'left': 323.4101, 'width': 38.9417724609375, 'height': 24.35723876953125, 'text': '2'}, {'top': 267.48465, 'left': 362.35187, 'width': 36.173126220703125, 'height': 24.35723876953125, 'text': '50'}, {'top': 267.48465, 'left': 398.525, 'width': 43.61083984375, 'height': 24.35723876953125, 'text': '48'}, {'top': 267.48465, 'left': 442.13583, 'width': 40.202056884765625, 'height': 24.35723876953125, 'text': '50'}, {'top': 267.48465, 'left': 482.3379, 'width': 44.513916015625, 'height': 24.35723876953125, 'text': '46'}, {'top': 267.48465, 'left': 526.8518, 'width': 32.7677001953125, 'height': 24.35723876953125, 'text': '100'}, {'top': 267.48465, 'left': 559.6195, 'width': 43.29449462890625, 'height': 24.35723876953125, 'text': '94'}, {'top': 267.48465, 'left': 602.914, 'width': 47.28265380859375, 'height': 24.35723876953125, 'text': 'O'}, {'top': 267.48465, 'left': 650.19666, 'width': 36.0, 'height': 24.35723876953125, 'text': '2'}, {'top': 267.48465, 'left': 686.19666, 'width': 36.0, 'height': 24.35723876953125, 'text': '10'}, {'top': 267.48465, 'left': 722.19666, 'width': 28.8004150390625, 'height': 24.35723876953125, 'text': '20'}, {'top': 0.0, 'left': 0.0, 'width': 0.0, 'height': 0.0, 'text': ''}], [{'top': 291.8419, 'left': 8.987904, 'width': 276.39788818359375, 'height': 19.364837646484375, 'text': 'Total'}, {'top': 291.8419, 'left': 285.3858, 'width': 38.0242919921875, 'height': 19.364837646484375, 'text': ''}, {'top': 291.8419, 'left': 323.4101, 'width': 38.9417724609375, 'height': 19.364837646484375, 'text': '26'}, {'top': 291.8419, 'left': 362.35187, 'width': 36.173126220703125, 'height': 19.364837646484375, 'text': ''}, {'top': 291.8419, 'left': 398.525, 'width': 43.61083984375, 'height': 19.364837646484375, 'text': ''}, {'top': 291.8419, 'left': 442.13583, 'width': 40.202056884765625, 'height': 19.364837646484375, 'text': ''}, {'top': 291.8419, 'left': 482.3379, 'width': 44.513916015625, 'height': 19.364837646484375, 'text': ''}, {'top': 291.8419, 'left': 526.8518, 'width': 32.7677001953125, 'height': 19.364837646484375, 'text': ''}, {'top': 291.8419, 'left': 559.6195, 'width': 43.29449462890625, 'height': 19.364837646484375, 'text': ''}, {'top': 291.8419, 'left': 602.914, 'width': 47.28265380859375, 'height': 19.364837646484375, 'text': ''}, {'top': 291.8419, 'left': 650.19666, 'width': 36.0, 'height': 19.364837646484375, 'text': '26'}, {'top': 291.8419, 'left': 686.19666, 'width': 36.0, 'height': 19.364837646484375, 'text': ''}, {'top': 291.8419, 'left': 722.19666, 'width': 28.8004150390625, 'height': 19.364837646484375, 'text': '236'}, {'top': 291.8419, 'left': 750.9971, 'width': 30.1856689453125, 'height': 19.364837646484375, 'text': ''}, {'top': 0.0, 'left': 0.0, 'width': 0.0, 'height': 0.0, 'text': ''}], [{'top': 311.20673, 'left': 8.987904, 'width': 772.19482421875, 'height': 18.040252685546875, 'text': 'Remark : SuccessfulCredits Earned :26SGPA :9.08'}, {'top': 0.0, 'left': 0.0, 'width': 0.0, 'height': 0.0, 'text': ''}, {'top': 0.0, 'left': 0.0, 'width': 0.0, 'height': 0.0, 'text': ''}, {'top': 0.0, 'left': 0.0, 'width': 0.0, 'height': 0.0, 'text': ''}, {'top': 0.0, 'left': 0.0, 'width': 0.0, 'height': 0.0, 'text': ''}, {'top': 0.0, 'left': 0.0, 'width': 0.0, 'height': 0.0, 'text': ''}, {'top': 0.0, 'left': 0.0, 'width': 0.0, 'height': 0.0, 'text': ''}, {'top': 0.0, 'left': 0.0, 'width': 0.0, 'height': 0.0, 'text': ''}, {'top': 0.0, 'left': 0.0, 'width': 0.0, 'height': 0.0, 'text': ''}, {'top': 0.0, 'left': 0.0, 'width': 0.0, 'height': 0.0, 'text': ''}, {'top': 0.0, 'left': 0.0, 'width': 0.0, 'height': 0.0, 'text': ''}, {'top': 0.0, 'left': 0.0, 'width': 0.0, 'height': 0.0, 'text': ''}, {'top': 0.0, 'left': 0.0, 'width': 0.0, 'height': 0.0, 'text': ''}, {'top': 0.0, 'left': 0.0, 'width': 0.0, 'height': 0.0, 'text': ''}, {'top': 0.0, 'left': 0.0, 'width': 0.0, 'height': 0.0, 'text': ''}], [{'top': 329.24698, 'left': 8.987904, 'width': 772.19482421875, 'height': 17.963775634765625, 'text': ''}, {'top': 0.0, 'left': 0.0, 'width': 0.0, 'height': 0.0, 'text': ''}, {'top': 0.0, 'left': 0.0, 'width': 0.0, 'height': 0.0, 'text': ''}, {'top': 0.0, 'left': 0.0, 'width': 0.0, 'height': 0.0, 'text': ''}, {'top': 0.0, 'left': 0.0, 'width': 0.0, 'height': 0.0, 'text': ''}, {'top': 0.0, 'left': 0.0, 'width': 0.0, 'height': 0.0, 'text': ''}, {'top': 0.0, 'left': 0.0, 'width': 0.0, 'height': 0.0, 'text': ''}, {'top': 0.0, 'left': 0.0, 'width': 0.0, 'height': 0.0, 'text': ''}, {'top': 0.0, 'left': 0.0, 'width': 0.0, 'height': 0.0, 'text': ''}, {'top': 0.0, 'left': 0.0, 'width': 0.0, 'height': 0.0, 'text': ''}, {'top': 0.0, 'left': 0.0, 'width': 0.0, 'height': 0.0, 'text': ''}, {'top': 0.0, 'left': 0.0, 'width': 0.0, 'height': 0.0, 'text': ''}, {'top': 0.0, 'left': 0.0, 'width': 0.0, 'height': 0.0, 'text': ''}, {'top': 0.0, 'left': 0.0, 'width': 0.0, 'height': 0.0, 'text': ''}, {'top': 0.0, 'left': 0.0, 'width': 0.0, 'height': 0.0, 'text': ''}]]}\n{'extraction_method': 'lattice', 'top': 522.0, 'left': 18.0, 'width': 711.9559936523438, 'height': 37.47808837890625, 'right': 729.956, 'bottom': 559.4781, 'data': [[{'top': 522.0, 'left': 18.0, 'width': 98.78739166259766, 'height': 12.49139404296875, 'text': 'Marks Obtained'}, {'top': 522.0, 'left': 116.78739, 'width': 103.8190689086914, 'height': 12.49139404296875, 'text': '80.00 and above'}, {'top': 522.0, 'left': 220.60646, 'width': 56.69264221191406, 'height': 12.49139404296875, 'text': '75-79.99'}, {'top': 522.0, 'left': 277.2991, 'width': 56.692718505859375, 'height': 12.49139404296875, 'text': '70-74.99'}, {'top': 522.0, 'left': 333.99182, 'width': 56.692535400390625, 'height': 12.49139404296875, 'text': '60-69.99'}, {'top': 522.0, 'left': 390.68436, 'width': 56.69384765625, 'height': 12.49139404296875, 'text': '50- 59.99'}, {'top': 522.0, 'left': 447.3782, 'width': 56.692718505859375, 'height': 12.49139404296875, 'text': '45-49.99'}, {'top': 522.0, 'left': 504.07092, 'width': 55.548583984375, 'height': 12.49139404296875, 'text': '40-44.99'}, {'top': 522.0, 'left': 559.6195, 'width': 113.64300537109375, 'height': 12.49139404296875, 'text': 'Less than 40'}, {'top': 522.0, 'left': 673.2625, 'width': 56.6934814453125, 'height': 12.49139404296875, 'text': 'Absent'}], [{'top': 534.4914, 'left': 18.0, 'width': 98.78739166259766, 'height': 12.49139404296875, 'text': 'Grade Point'}, {'top': 534.4914, 'left': 116.78739, 'width': 103.8190689086914, 'height': 12.49139404296875, 'text': '10'}, {'top': 534.4914, 'left': 220.60646, 'width': 56.69264221191406, 'height': 12.49139404296875, 'text': '9'}, {'top': 534.4914, 'left': 277.2991, 'width': 56.692718505859375, 'height': 12.49139404296875, 'text': '8'}, {'top': 534.4914, 'left': 333.99182, 'width': 56.692535400390625, 'height': 12.49139404296875, 'text': '7'}, {'top': 534.4914, 'left': 390.68436, 'width': 56.69384765625, 'height': 12.49139404296875, 'text': '6'}, {'top': 534.4914, 'left': 447.3782, 'width': 56.692718505859375, 'height': 12.49139404296875, 'text': '5'}, {'top': 534.4914, 'left': 504.07092, 'width': 55.548583984375, 'height': 12.49139404296875, 'text': '4'}, {'top': 534.4914, 'left': 559.6195, 'width': 113.64300537109375, 'height': 12.49139404296875, 'text': '0'}, {'top': 534.4914, 'left': 673.2625, 'width': 56.6934814453125, 'height': 12.49139404296875, 'text': '--'}], [{'top': 546.9828, 'left': 18.0, 'width': 98.78739166259766, 'height': 12.49530029296875, 'text': 'Letter Grade'}, {'top': 546.9828, 'left': 116.78739, 'width': 103.8190689086914, 'height': 12.49530029296875, 'text': 'O'}, {'top': 546.9828, 'left': 220.60646, 'width': 56.69264221191406, 'height': 12.49530029296875, 'text': 'A'}, {'top': 546.9828, 'left': 277.2991, 'width': 56.692718505859375, 'height': 12.49530029296875, 'text': 'B'}, {'top': 546.9828, 'left': 333.99182, 'width': 56.692535400390625, 'height': 12.49530029296875, 'text': 'C'}, {'top': 546.9828, 'left': 390.68436, 'width': 56.69384765625, 'height': 12.49530029296875, 'text': 'D'}, {'top': 546.9828, 'left': 447.3782, 'width': 56.692718505859375, 'height': 12.49530029296875, 'text': 'E'}, {'top': 546.9828, 'left': 504.07092, 'width': 55.548583984375, 'height': 12.49530029296875, 'text': 'P'}, {'top': 546.9828, 'left': 559.6195, 'width': 113.64300537109375, 'height': 12.49530029296875, 'text': 'F'}, {'top': 546.9828, 'left': 673.2625, 'width': 56.6934814453125, 'height': 12.49530029296875, 'text': 'F'}]]}\n"
     ]
    }
   ],
   "source": [
    "for i in data1:\n",
    "    print(i)\n",
    "    for j in i['data']:\n",
    "        # print(len(j))\n",
    "        pass\n",
    "        # for k in j:\n",
    "            # print(k)\n",
    "        # print(\"=======================================\")\n",
    "# print(data1)\n",
    "# for i in data1:\n",
    "#     print(i)"
   ]
  },
  {
   "cell_type": "code",
   "execution_count": null,
   "metadata": {},
   "outputs": [],
   "source": []
  }
 ]
}