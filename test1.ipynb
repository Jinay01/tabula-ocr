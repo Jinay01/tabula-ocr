{
 "metadata": {
  "language_info": {
   "codemirror_mode": {
    "name": "ipython",
    "version": 3
   },
   "file_extension": ".py",
   "mimetype": "text/x-python",
   "name": "python",
   "nbconvert_exporter": "python",
   "pygments_lexer": "ipython3",
   "version": "3.8.5"
  },
  "orig_nbformat": 2,
  "kernelspec": {
   "name": "python385jvsc74a57bd04fe423c96aa21f041534bead582c2e6c3f42ab46597860deda9051867850283b",
   "display_name": "Python 3.8.5 32-bit"
  },
  "metadata": {
   "interpreter": {
    "hash": "4fe423c96aa21f041534bead582c2e6c3f42ab46597860deda9051867850283b"
   }
  }
 },
 "nbformat": 4,
 "nbformat_minor": 2,
 "cells": [
  {
   "cell_type": "code",
   "execution_count": 1,
   "metadata": {},
   "outputs": [],
   "source": [
    "import tabula\n",
    "import csv\n",
    "import json"
   ]
  },
  {
   "cell_type": "code",
   "execution_count": 5,
   "metadata": {},
   "outputs": [
    {
     "output_type": "stream",
     "name": "stderr",
     "text": [
      "'pages' argument isn't specified.Will extract only from page 1 by default.\n",
      "Got stderr: Apr 25, 2021 9:25:37 AM org.apache.pdfbox.pdmodel.font.PDType1Font <init>\n",
      "WARNING: Using fallback font TimesNewRomanPSMT for CourierStd\n",
      "\n"
     ]
    }
   ],
   "source": [
    "# converting it into json\n",
    "convert = tabula.io.convert_into('input/elex3.pdf', 'output/elex3.json', output_format='json')\n",
    "convert"
   ]
  },
  {
   "source": [
    "sem_number = 4 #user input\n",
    "marsksheet = {} #user input"
   ],
   "cell_type": "code",
   "metadata": {},
   "execution_count": 6,
   "outputs": []
  },
  {
   "cell_type": "code",
   "execution_count": null,
   "metadata": {},
   "outputs": [],
   "source": []
  }
 ]
}